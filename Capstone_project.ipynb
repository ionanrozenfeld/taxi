{
 "cells": [
  {
   "cell_type": "code",
   "execution_count": null,
   "metadata": {
    "collapsed": false,
    "slideshow": {
     "slide_type": "skip"
    }
   },
   "outputs": [],
   "source": [
    "from IPython.display import HTML\n",
    "\n",
    "HTML('''<script>\n",
    "code_show=true; \n",
    "function code_toggle() {\n",
    " if (code_show){\n",
    " $('div.input').hide();\n",
    " } else {\n",
    " $('div.input').show();\n",
    " }\n",
    " code_show = !code_show\n",
    "} \n",
    "$( document ).ready(code_toggle);\n",
    "</script>\n",
    "<form action=\"javascript:code_toggle()\"><input type=\"submit\" value=\"Click here to toggle on/off the raw code.\"></form>''')\n",
    "\n"
   ]
  },
  {
   "cell_type": "markdown",
   "metadata": {
    "slideshow": {
     "slide_type": "slide"
    }
   },
   "source": [
    "## TaxiStat\n",
    "In this project I analyze a database containing over 170,000,000 taxi trips <br />\n",
    "in NYC over the year 2013.\n",
    "\n",
    "These are some dataset facts:\n",
    "\n",
    "-Provided by the TLC of NYC.\n",
    "\n",
    "-About 18 GB of data\n",
    "\n",
    "-Data was imported into a MySQL database and is processed using Pandas and Numpy."
   ]
  },
  {
   "cell_type": "code",
   "execution_count": null,
   "metadata": {
    "collapsed": false,
    "slideshow": {
     "slide_type": "skip"
    }
   },
   "outputs": [],
   "source": [
    "%matplotlib inline\n",
    "import numpy as np\n",
    "import pandas as pd\n",
    "import mysql.connector\n",
    "from bokeh.plotting import figure, output_file, show\n",
    "from bokeh.plotting import *\n",
    "from bokeh.models import Range1d\n",
    "from bokeh.embed import components\n",
    "from datetime import date, timedelta, datetime, time\n",
    "from bokeh.embed import notebook_div\n",
    "from bokeh.io import output_notebook\n",
    "from identify_points import get_center_id, get_center_coordinates\n",
    "import seaborn as sns\n",
    "import networkx as nx\n",
    "output_notebook()\n",
    "import itertools\n",
    "from cartesian import cartesian\n",
    "import pickle\n",
    "\n",
    "try:\n",
    "    connect = mysql.connector.connect(host=\"localhost\", user=\"hernan\",  passwd=\"hernan\", db=\"trips\")\n",
    "except mysql.connector.Error as err:\n",
    "  if err.errno == errorcode.ER_ACCESS_DENIED_ERROR:\n",
    "    print(\"Something is wrong with your user name or password\")\n",
    "  elif err.errno == errorcode.ER_BAD_DB_ERROR:\n",
    "    print(\"Database does not exist\")\n",
    "  else:\n",
    "    print(err)"
   ]
  },
  {
   "cell_type": "code",
   "execution_count": null,
   "metadata": {
    "collapsed": true
   },
   "outputs": [],
   "source": [
    "def get_time_slot(t):\n",
    "    time_slot = 2*(t.hour) + (t.minute)/30\n",
    "    return time_slot"
   ]
  },
  {
   "cell_type": "code",
   "execution_count": null,
   "metadata": {
    "collapsed": false,
    "slideshow": {
     "slide_type": "skip"
    }
   },
   "outputs": [],
   "source": [
    "t1 = '2013-01-01 00:00:00'\n",
    "t2 = '2013-01-01 23:59:59'\n",
    "t1_datetime = pd.to_datetime(t1)\n",
    "t2_datetime = pd.to_datetime(t2)"
   ]
  },
  {
   "cell_type": "code",
   "execution_count": null,
   "metadata": {
    "collapsed": false
   },
   "outputs": [],
   "source": [
    "t1_datetime.time()"
   ]
  },
  {
   "cell_type": "code",
   "execution_count": null,
   "metadata": {
    "collapsed": false,
    "slideshow": {
     "slide_type": "skip"
    }
   },
   "outputs": [],
   "source": [
    "sql_query = \"SELECT id, fare_amount, trip_distance, trip_time_in_secs, pickup_datetime, pickup_longitude, pickup_latitude FROM taxi_trip WHERE pickup_datetime BETWEEN '\"+t1+\"' AND '\"+t2+\"'\""
   ]
  },
  {
   "cell_type": "code",
   "execution_count": null,
   "metadata": {
    "collapsed": false,
    "slideshow": {
     "slide_type": "skip"
    }
   },
   "outputs": [],
   "source": [
    "df_mysql = pd.read_sql(sql_query, con=connect)"
   ]
  },
  {
   "cell_type": "markdown",
   "metadata": {
    "slideshow": {
     "slide_type": "skip"
    }
   },
   "source": [
    "To give a sense of what the data looks like in the Pandas<br />\n",
    "here I show the first line of the DataFrame.<br />\n",
    "(Note that there is a lot more data in the MySQL database<br />\n",
    "that I'm not importing into the DataFrame for now."
   ]
  },
  {
   "cell_type": "markdown",
   "metadata": {
    "slideshow": {
     "slide_type": "slide"
    }
   },
   "source": [
    "Let's look at taxi patterns for January 1, 2013 ..."
   ]
  },
  {
   "cell_type": "code",
   "execution_count": null,
   "metadata": {
    "collapsed": true,
    "slideshow": {
     "slide_type": "skip"
    }
   },
   "outputs": [],
   "source": [
    "time_resolution_in_minutes = 30\n",
    "offset = pd.DateOffset(minutes=time_resolution_in_minutes)"
   ]
  },
  {
   "cell_type": "code",
   "execution_count": null,
   "metadata": {
    "collapsed": false,
    "slideshow": {
     "slide_type": "skip"
    }
   },
   "outputs": [],
   "source": [
    "time_bins = pd.date_range(start=t1_datetime,end=t2_datetime, freq = offset)"
   ]
  },
  {
   "cell_type": "code",
   "execution_count": null,
   "metadata": {
    "collapsed": false
   },
   "outputs": [],
   "source": [
    "(time_bins[7].minute)/30"
   ]
  },
  {
   "cell_type": "code",
   "execution_count": null,
   "metadata": {
    "collapsed": false,
    "slideshow": {
     "slide_type": "skip"
    }
   },
   "outputs": [],
   "source": [
    "df_binned = pd.DataFrame(index=time_bins[:-1], columns=['number_of_trips','fare_amount','trip_distance','trip_time_in_secs'])"
   ]
  },
  {
   "cell_type": "code",
   "execution_count": null,
   "metadata": {
    "collapsed": false,
    "slideshow": {
     "slide_type": "skip"
    }
   },
   "outputs": [],
   "source": [
    "for time_index in range(len(time_bins)-1):\n",
    "    data_bin = df_mysql[(df_mysql['pickup_datetime']>=time_bins[time_index]) & (df_mysql['pickup_datetime']<time_bins[time_index+1])]\n",
    "    df_binned.ix[time_index]['number_of_trips']=len(data_bin)\n",
    "    df_binned.ix[time_index]['fare_amount']=data_bin['fare_amount'].mean()\n",
    "    df_binned.ix[time_index]['trip_distance']=data_bin['trip_distance'].mean()\n",
    "    df_binned.ix[time_index]['trip_time_in_secs']=data_bin['trip_time_in_secs'].mean()"
   ]
  },
  {
   "cell_type": "markdown",
   "metadata": {
    "slideshow": {
     "slide_type": "skip"
    }
   },
   "source": [
    "Then bin the results by time of pick up into 30-minute bins and look <br />\n",
    "at the mean fare amount, trip distance, trip time, and number of trips."
   ]
  },
  {
   "cell_type": "code",
   "execution_count": null,
   "metadata": {
    "collapsed": false,
    "slideshow": {
     "slide_type": "skip"
    }
   },
   "outputs": [],
   "source": [
    "from math import pi\n",
    "TOOLS=\"pan,wheel_zoom,box_zoom,reset,save\"\n",
    "p1 = figure(tools=TOOLS, plot_width=500, plot_height=500, x_axis_type='datetime', x_axis_label='Date and Time')\n",
    "p1.line(df_binned.index,df_binned['number_of_trips']/1000,line_width=2, color=\"blue\", legend=\"number of trips/1000\")\n",
    "p1.line(df_binned.index,df_binned['fare_amount'],line_width=2, color=\"red\", legend=\"fare amount\")\n",
    "p1.line(df_binned.index,df_binned['fare_amount'].mean(),line_width=2, color=\"red\", legend=\"Mean fare amount\")\n",
    "p1.line(df_binned.index,df_binned['trip_time_in_secs']/100,line_width=2, color=\"green\", legend=\"Trip time in secs/100\")\n",
    "p1.line(df_binned.index,df_binned['trip_time_in_secs'].mean()/100,line_width=2, color=\"green\", legend=\"Mean trip time in secs/100\")\n",
    "p1.line(df_binned.index,df_binned['trip_distance'],line_width=2, color=\"yellow\", legend=\"Trip distance\")\n",
    "p1.line(df_binned.index,df_binned['trip_distance'].mean(),line_width=2, color=\"yellow\", legend=\"Mean trip distance\")\n",
    "p1.xaxis.major_label_orientation = pi/2\n",
    "p1.border_fill = 'whitesmoke'\n",
    "p1.background_fill = 'beige'\n",
    "p1.toolbar_location=None"
   ]
  },
  {
   "cell_type": "code",
   "execution_count": null,
   "metadata": {
    "collapsed": false,
    "slideshow": {
     "slide_type": "slide"
    }
   },
   "outputs": [],
   "source": [
    "show(p1)"
   ]
  },
  {
   "cell_type": "markdown",
   "metadata": {
    "slideshow": {
     "slide_type": "skip"
    }
   },
   "source": [
    "Now let's look at more microscopic data. Within the same timeframe, <br />\n",
    "let's see the same timeseries for an area of 3 by 3 blocks around Chelsea,<br />\n",
    "and also another 3 by 3 area around midtown."
   ]
  },
  {
   "cell_type": "code",
   "execution_count": null,
   "metadata": {
    "collapsed": true,
    "slideshow": {
     "slide_type": "skip"
    }
   },
   "outputs": [],
   "source": [
    "df_binned_chelsea = pd.DataFrame(index=time_bins[:-1], columns=['number_of_trips','fare_amount','trip_distance','trip_time_in_secs'])\n",
    "df_binned_midtown = pd.DataFrame(index=time_bins[:-1], columns=['number_of_trips','fare_amount','trip_distance','trip_time_in_secs'])"
   ]
  },
  {
   "cell_type": "code",
   "execution_count": null,
   "metadata": {
    "collapsed": false,
    "slideshow": {
     "slide_type": "skip"
    }
   },
   "outputs": [],
   "source": [
    "for time_index in range(len(time_bins)-1):\n",
    "    data_bin_chelsea = df_mysql[(df_mysql['pickup_datetime']>=time_bins[time_index]) & \\\n",
    "                                (df_mysql['pickup_datetime']<time_bins[time_index+1]) & \\\n",
    "                                (df_mysql['pickup_longitude']>=-73.977637) & \\\n",
    "                                (df_mysql['pickup_longitude']<-73.970969) & \\\n",
    "                                (df_mysql['pickup_latitude']>=40.757924) & \\\n",
    "                                (df_mysql['pickup_latitude']<40.758359)]\n",
    "    \n",
    "    data_bin_midtown = df_mysql[(df_mysql['pickup_datetime']>=time_bins[time_index]) & \\\n",
    "                                (df_mysql['pickup_datetime']<time_bins[time_index+1]) & \\\n",
    "                                (df_mysql['pickup_longitude']>=-74.007291) & \\\n",
    "                                (df_mysql['pickup_longitude']<-73.996965) & \\\n",
    "                                (df_mysql['pickup_latitude']>=40.742209) & \\\n",
    "                                (df_mysql['pickup_latitude']<40.743481)]\n",
    "    \n",
    "    df_binned_chelsea.ix[time_index]['number_of_trips']=len(data_bin_chelsea)\n",
    "    df_binned_chelsea.ix[time_index]['fare_amount']=data_bin_chelsea['fare_amount'].mean()\n",
    "    df_binned_chelsea.ix[time_index]['trip_distance']=data_bin_chelsea['trip_distance'].mean()\n",
    "    df_binned_chelsea.ix[time_index]['trip_time_in_secs']=data_bin_chelsea['trip_time_in_secs'].mean()\n",
    "    \n",
    "    df_binned_midtown.ix[time_index]['number_of_trips']=len(data_bin_midtown)\n",
    "    df_binned_midtown.ix[time_index]['fare_amount']=data_bin_midtown['fare_amount'].mean()\n",
    "    df_binned_midtown.ix[time_index]['trip_distance']=data_bin_midtown['trip_distance'].mean()\n",
    "    df_binned_midtown.ix[time_index]['trip_time_in_secs']=data_bin_midtown['trip_time_in_secs'].mean()"
   ]
  },
  {
   "cell_type": "code",
   "execution_count": null,
   "metadata": {
    "collapsed": false,
    "slideshow": {
     "slide_type": "skip"
    }
   },
   "outputs": [],
   "source": [
    "df_binned_chelsea = df_binned_chelsea.fillna(0)\n",
    "df_binned_midtown = df_binned_midtown.fillna(0)"
   ]
  },
  {
   "cell_type": "code",
   "execution_count": null,
   "metadata": {
    "collapsed": true,
    "slideshow": {
     "slide_type": "skip"
    }
   },
   "outputs": [],
   "source": [
    "TOOLS=\"pan,wheel_zoom,box_zoom,reset,save\"\n",
    "p2 = figure(tools=TOOLS, plot_width=400, plot_height=400, x_axis_type='datetime', x_axis_label='Date and Time',title=\"Chelsea\")\n",
    "p2.line(df_binned_chelsea.index,df_binned_chelsea['number_of_trips'],line_width=2, color=\"blue\", legend=\"number of trips\")\n",
    "p2.line(df_binned_chelsea.index,df_binned_chelsea['fare_amount'],line_width=2, color=\"red\", legend=\"fare amount\")\n",
    "p2.line(df_binned_chelsea.index,df_binned_chelsea['fare_amount'].mean(),line_width=2, color=\"red\", legend=\"Mean fare amount\")\n",
    "p2.line(df_binned_chelsea.index,df_binned_chelsea['trip_time_in_secs']/10,line_width=2, color=\"green\", legend=\"Trip time in secs/100\")\n",
    "p2.line(df_binned_chelsea.index,df_binned_chelsea['trip_time_in_secs'].mean()/10,line_width=2, color=\"green\", legend=\"Mean trip time in secs/100\")\n",
    "p2.line(df_binned_chelsea.index,df_binned_chelsea['trip_distance'],line_width=2, color=\"yellow\", legend=\"Trip distance\")\n",
    "p2.line(df_binned_chelsea.index,df_binned_chelsea['trip_distance'].mean(),line_width=2, color=\"yellow\", legend=\"Mean trip distance\")\n",
    "p2.xaxis.major_label_orientation = pi/2\n",
    "p2.background_fill = 'beige'\n",
    "p2.border_fill = 'whitesmoke'\n"
   ]
  },
  {
   "cell_type": "code",
   "execution_count": null,
   "metadata": {
    "collapsed": false,
    "slideshow": {
     "slide_type": "skip"
    }
   },
   "outputs": [],
   "source": [
    "TOOLS=\"pan,wheel_zoom,box_zoom,reset,save\"\n",
    "p3 = figure(tools=TOOLS, plot_width=400, plot_height=400, x_axis_type='datetime', x_axis_label='Date and Time',title=\"Midtown\")\n",
    "p3.line(df_binned_midtown.index,df_binned_midtown['number_of_trips'],line_width=2, color=\"blue\")\n",
    "p3.line(df_binned_midtown.index,df_binned_midtown['fare_amount'],line_width=2, color=\"red\")\n",
    "p3.line(df_binned_midtown.index,df_binned_midtown['fare_amount'].mean(),line_width=2, color=\"red\")\n",
    "p3.line(df_binned_midtown.index,df_binned_midtown['trip_time_in_secs']/10,line_width=2, color=\"green\")\n",
    "p3.line(df_binned_midtown.index,df_binned_midtown['trip_time_in_secs'].mean()/10,line_width=2, color=\"green\")\n",
    "p3.line(df_binned_midtown.index,df_binned_midtown['trip_distance'],line_width=2, color=\"yellow\")\n",
    "p3.line(df_binned_midtown.index,df_binned_midtown['trip_distance'].mean(),line_width=2, color=\"yellow\")\n",
    "p3.xaxis.major_label_orientation = pi/2\n",
    "p3.background_fill = 'beige'\n",
    "p3.border_fill = 'whitesmoke'\n"
   ]
  },
  {
   "cell_type": "code",
   "execution_count": null,
   "metadata": {
    "collapsed": false,
    "slideshow": {
     "slide_type": "slide"
    }
   },
   "outputs": [],
   "source": [
    "p = gridplot([[p3, p2]])\n",
    "p.toolbar_location=None\n",
    "p.border_fill = None\n",
    "\n",
    "show(p)"
   ]
  },
  {
   "cell_type": "markdown",
   "metadata": {},
   "source": [
    "# Handling location and time"
   ]
  },
  {
   "cell_type": "code",
   "execution_count": null,
   "metadata": {
    "collapsed": true
   },
   "outputs": [],
   "source": [
    "my_latitude = 40.748347 \n",
    "my_longitude = -73.999425\n",
    "my_datetime = pd.to_datetime('2015-09-15 15:00:00')\n",
    "time_resolution_in_minutes = 30\n",
    "my_day_of_week = my_datetime.dayofweek\n",
    "my_time = my_datetime.time()\n",
    "time_delta = timedelta(minutes=time_resolution_in_minutes)\n",
    "my_time_plus_delta = (my_datetime + time_delta).time()\n",
    "offset = pd.DateOffset(minutes=time_resolution_in_minutes)"
   ]
  },
  {
   "cell_type": "code",
   "execution_count": null,
   "metadata": {
    "collapsed": false
   },
   "outputs": [],
   "source": [
    "t1 = '2013-01-01 00:00:00'\n",
    "t2 = '2013-01-01 23:59:59'\n",
    "t1_datetime = pd.to_datetime(t1)\n",
    "t2_datetime = pd.to_datetime(t2)\n",
    "time_bins = pd.date_range(start=t1_datetime,end=t2_datetime, freq = offset)"
   ]
  },
  {
   "cell_type": "code",
   "execution_count": null,
   "metadata": {
    "collapsed": true
   },
   "outputs": [],
   "source": [
    "my_center_id = get_center_id(my_longitude,my_latitude,x_min=x_min,x_max=x_max,y_min=y_min,y_max=y_max,mesh_space=mesh_space)"
   ]
  },
  {
   "cell_type": "markdown",
   "metadata": {},
   "source": [
    "# Network"
   ]
  },
  {
   "cell_type": "markdown",
   "metadata": {
    "collapsed": true
   },
   "source": [
    "Let's make a network.\n",
    "For a given mesh grid, create directed weighted networks every 30 mins where \n",
    "nodes are centers and a link appears if there is a trip between that center\n",
    "and another one. THe weight is the number of trips within that half hour."
   ]
  },
  {
   "cell_type": "code",
   "execution_count": null,
   "metadata": {
    "collapsed": false
   },
   "outputs": [],
   "source": [
    "x_min = -74.293396 #longitude  SW: 40.481965, -74.293396 NE:40.911486, -73.733866\n",
    "x_max = -73.733866 #longitude\n",
    "y_min = 40.481965 #latitude\n",
    "y_max = 40.911486 #latitude\n",
    "mesh_space = 0.01\n",
    "\n",
    "centers_x,centers_rx=np.linspace(x_min,x_max,(x_max-x_min)/mesh_space,retstep=\"True\")\n",
    "centers_y,centers_ry=np.linspace(y_min,y_max,(y_max-y_min)/mesh_space,retstep=\"True\")"
   ]
  },
  {
   "cell_type": "code",
   "execution_count": null,
   "metadata": {
    "collapsed": false
   },
   "outputs": [],
   "source": [
    "z=cartesian([centers_x,centers_y])"
   ]
  },
  {
   "cell_type": "code",
   "execution_count": null,
   "metadata": {
    "collapsed": false
   },
   "outputs": [],
   "source": [
    "centers_df = pd.DataFrame(z,columns=['longitude','latitude'])"
   ]
  },
  {
   "cell_type": "code",
   "execution_count": null,
   "metadata": {
    "collapsed": false
   },
   "outputs": [],
   "source": [
    "centers_df['center_id'] = centers_df.apply(lambda x: get_center_id(x['longitude'], x['latitude'],x_min=x_min, x_max=x_max, y_min=y_min, y_max=y_max,mesh_space=mesh_space), axis=1)"
   ]
  },
  {
   "cell_type": "code",
   "execution_count": null,
   "metadata": {
    "collapsed": false
   },
   "outputs": [],
   "source": [
    "centers_df.to_pickle('centers_long_lat_id_mesh_space='+str(mesh_space)+'.pickle')"
   ]
  },
  {
   "cell_type": "code",
   "execution_count": null,
   "metadata": {
    "collapsed": false
   },
   "outputs": [],
   "source": [
    "for day_of_week in range(2,7):\n",
    "    #print 'day_of_week', day_of_week\n",
    "    \n",
    "    sql_query_full_day = 'SELECT id, fare_amount, trip_distance, \\\n",
    "    trip_time_in_secs, pickup_longitude, pickup_latitude,\\\n",
    "    dropoff_longitude, dropoff_latitude, pickup_datetime \\\n",
    "    FROM taxi_trip WHERE WEEKDAY(pickup_datetime) = '+str(day_of_week) +\\\n",
    "    ' AND pickup_longitude >=' +str(x_min)+ ' AND pickup_longitude <' +str(x_max)+\\\n",
    "    ' AND pickup_latitude >=' +str(y_min)+ ' AND pickup_latitude<' +str(y_max)\n",
    "    \n",
    "    df_mysql2 = pd.read_sql(sql_query_full_day, con=connect)\n",
    "    df_mysql2['pickup_center']=df_mysql2.apply(lambda x: get_center_id(x['pickup_longitude'], x['pickup_latitude'],x_min=x_min, x_max=x_max, y_min=y_min, y_max=y_max,mesh_space=mesh_space), axis=1)\n",
    "    df_mysql2['dropoff_center']=df_mysql2.apply(lambda x: get_center_id(x['dropoff_longitude'], x['dropoff_latitude'],x_min=x_min, x_max=x_max, y_min=y_min, y_max=y_max,mesh_space=mesh_space), axis=1)\n",
    "        \n",
    "    df_mysql2['pickup_time_slot'] = df_mysql2.apply(lambda x: get_time_slot(x['pickup_datetime']),axis=1)\n",
    "    #df_mysql2['dropoff_time_slot'] = df_mysql2.apply(lambda x: get_time_slot(x['dropoff_datetime']),axis=1)\n",
    "\n",
    "    #df_mysql2 = df_mysql2[['id','fare_amount','trip_distance','trip_time_in_secs','pickup_center','dropoff_center','pickup_time_slot']]\n",
    "\n",
    "    grouped = df_mysql2[['fare_amount','trip_distance','trip_time_in_secs','pickup_time_slot']].groupby('pickup_time_slot', as_index=True)\n",
    "    grouped = grouped.aggregate(np.mean)\n",
    "    #grouped = grouped.set_index('pickup_time_slot')\n",
    "    grouped['number_of_trips_from_pickup_center'] = (df_mysql2.groupby('pickup_time_slot')).size()\n",
    "    \n",
    "    network = df_mysql2.groupby(['pickup_time_slot','pickup_center','dropoff_center'],sort=True).size()    \n",
    "    \n",
    "    #data_dict = {\"data\" : grouped, \"networks\": {}}\n",
    "    #for tt in range(48):\n",
    "    #    G = nx.MultiDiGraph()\n",
    "    #    nn = df_mysql2[df_mysql2['pickup_time_slot'] == tt][['pickup_center','dropoff_center']]\n",
    "    #    G.add_edges_from(np.array(nn))\n",
    "    #    data_dict[\"networks\"][tt] = G\n",
    "    \n",
    "    output = open('main_data_mesh_space='+str(mesh_space)+'_day='+str(day_of_week)+'.pickle','wb')\n",
    "    pickle.dump(grouped,output)\n",
    "    output.close()\n",
    "\n",
    "    output = open('network_mesh_space='+str(mesh_space)+'_day='+str(day_of_week)+'.pickle','wb')\n",
    "    pickle.dump(network,output)\n",
    "    output.close()\n"
   ]
  },
  {
   "cell_type": "code",
   "execution_count": null,
   "metadata": {
    "collapsed": true
   },
   "outputs": [],
   "source": []
  }
 ],
 "metadata": {
  "celltoolbar": "Slideshow",
  "kernelspec": {
   "display_name": "Python 2",
   "language": "python",
   "name": "python2"
  },
  "language_info": {
   "codemirror_mode": {
    "name": "ipython",
    "version": 2
   },
   "file_extension": ".py",
   "mimetype": "text/x-python",
   "name": "python",
   "nbconvert_exporter": "python",
   "pygments_lexer": "ipython2",
   "version": "2.7.5"
  }
 },
 "nbformat": 4,
 "nbformat_minor": 0
}
