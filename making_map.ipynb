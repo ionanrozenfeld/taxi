{
 "cells": [
  {
   "cell_type": "code",
   "execution_count": 402,
   "metadata": {
    "collapsed": false
   },
   "outputs": [],
   "source": [
    "import folium\n",
    "import pickle\n",
    "import simplejson\n",
    "import pandas as pd\n",
    "from bs4 import BeautifulSoup as bs\n",
    "import numpy as np"
   ]
  },
  {
   "cell_type": "markdown",
   "metadata": {},
   "source": [
    "# Make the dataframe"
   ]
  },
  {
   "cell_type": "code",
   "execution_count": 753,
   "metadata": {
    "collapsed": true
   },
   "outputs": [],
   "source": [
    "month = 2 #Oct\n",
    "day_of_week = 1 #Wed\n",
    "hour = 1 #From 3pm to 4pm\n",
    "\n",
    "f=open('network_mesh_space=0.0025_month='+str(month)+'_day='+str(day_of_week)+'.pickle','rb')\n",
    "network = pickle.load(f)\n",
    "f.close()"
   ]
  },
  {
   "cell_type": "code",
   "execution_count": 754,
   "metadata": {
    "collapsed": true
   },
   "outputs": [],
   "source": [
    "trips = {} #{center_id: [outgoing trips, incoming trips]}\n",
    "\n",
    "count_pick_ups = network.loc(axis=0)[hour,:,:,:]\n",
    "#count_pick_ups = network.loc[(hour,slice(None),slice(None),slice(None)),:]\n",
    "count_pick_ups_index = count_pick_ups.index.values\n",
    "for i in count_pick_ups_index:\n",
    "    try:\n",
    "        trips[str(int(i[2]))][0] += int(count_pick_ups.ix[i])\n",
    "    except KeyError:\n",
    "        trips[str(int(i[2]))] = [int(count_pick_ups.ix[i]),0]\n",
    "\n",
    "count_drop_offs = network.loc(axis=0)[:,hour,:,:]\n",
    "count_drop_offs_index = count_drop_offs.index.values\n",
    "for i in count_drop_offs_index:\n",
    "    try:\n",
    "        trips[str(int(i[3]))][1] += int(count_drop_offs.ix[i])\n",
    "    except KeyError:\n",
    "        trips[str(int(i[3]))] = [0,int(count_drop_offs.ix[i])]\n"
   ]
  },
  {
   "cell_type": "code",
   "execution_count": 755,
   "metadata": {
    "collapsed": false
   },
   "outputs": [],
   "source": [
    "tk = trips.keys()\n",
    "tv = trips.values()\n",
    "\n",
    "map_data = pd.DataFrame({'centers': tk, 'activity' : [i[0]+i[1] for i in tv], \n",
    "                         'attractiveness': [i[1]-i[0] for i in tv]})"
   ]
  },
  {
   "cell_type": "code",
   "execution_count": 756,
   "metadata": {
    "collapsed": false
   },
   "outputs": [
    {
     "data": {
      "text/html": [
       "<div>\n",
       "<table border=\"1\" class=\"dataframe\">\n",
       "  <thead>\n",
       "    <tr style=\"text-align: right;\">\n",
       "      <th></th>\n",
       "      <th>activity</th>\n",
       "      <th>attractiveness</th>\n",
       "      <th>centers</th>\n",
       "    </tr>\n",
       "  </thead>\n",
       "  <tbody>\n",
       "    <tr>\n",
       "      <th>0</th>\n",
       "      <td>93</td>\n",
       "      <td>11</td>\n",
       "      <td>23990</td>\n",
       "    </tr>\n",
       "    <tr>\n",
       "      <th>1</th>\n",
       "      <td>23</td>\n",
       "      <td>5</td>\n",
       "      <td>23991</td>\n",
       "    </tr>\n",
       "    <tr>\n",
       "      <th>2</th>\n",
       "      <td>3</td>\n",
       "      <td>-1</td>\n",
       "      <td>22469</td>\n",
       "    </tr>\n",
       "    <tr>\n",
       "      <th>3</th>\n",
       "      <td>2</td>\n",
       "      <td>-2</td>\n",
       "      <td>23993</td>\n",
       "    </tr>\n",
       "    <tr>\n",
       "      <th>4</th>\n",
       "      <td>1</td>\n",
       "      <td>1</td>\n",
       "      <td>22465</td>\n",
       "    </tr>\n",
       "  </tbody>\n",
       "</table>\n",
       "</div>"
      ],
      "text/plain": [
       "   activity  attractiveness centers\n",
       "0        93              11   23990\n",
       "1        23               5   23991\n",
       "2         3              -1   22469\n",
       "3         2              -2   23993\n",
       "4         1               1   22465"
      ]
     },
     "execution_count": 756,
     "metadata": {},
     "output_type": "execute_result"
    }
   ],
   "source": [
    "map_data.head()"
   ]
  },
  {
   "cell_type": "code",
   "execution_count": 752,
   "metadata": {
    "collapsed": false
   },
   "outputs": [
    {
     "data": {
      "text/html": [
       "<div>\n",
       "<table border=\"1\" class=\"dataframe\">\n",
       "  <thead>\n",
       "    <tr style=\"text-align: right;\">\n",
       "      <th></th>\n",
       "      <th>activity</th>\n",
       "      <th>attractiveness</th>\n",
       "      <th>centers</th>\n",
       "    </tr>\n",
       "  </thead>\n",
       "  <tbody>\n",
       "    <tr>\n",
       "      <th>0</th>\n",
       "      <td>1</td>\n",
       "      <td>-1</td>\n",
       "      <td>23994</td>\n",
       "    </tr>\n",
       "    <tr>\n",
       "      <th>1</th>\n",
       "      <td>350</td>\n",
       "      <td>-72</td>\n",
       "      <td>23990</td>\n",
       "    </tr>\n",
       "    <tr>\n",
       "      <th>2</th>\n",
       "      <td>157</td>\n",
       "      <td>31</td>\n",
       "      <td>23991</td>\n",
       "    </tr>\n",
       "    <tr>\n",
       "      <th>3</th>\n",
       "      <td>4</td>\n",
       "      <td>2</td>\n",
       "      <td>22469</td>\n",
       "    </tr>\n",
       "    <tr>\n",
       "      <th>4</th>\n",
       "      <td>4</td>\n",
       "      <td>2</td>\n",
       "      <td>23993</td>\n",
       "    </tr>\n",
       "  </tbody>\n",
       "</table>\n",
       "</div>"
      ],
      "text/plain": [
       "   activity  attractiveness centers\n",
       "0         1              -1   23994\n",
       "1       350             -72   23990\n",
       "2       157              31   23991\n",
       "3         4               2   22469\n",
       "4         4               2   23993"
      ]
     },
     "execution_count": 752,
     "metadata": {},
     "output_type": "execute_result"
    }
   ],
   "source": [
    "map_data.head()"
   ]
  },
  {
   "cell_type": "code",
   "execution_count": 342,
   "metadata": {
    "collapsed": false
   },
   "outputs": [
    {
     "data": {
      "text/plain": [
       "160"
      ]
     },
     "execution_count": 342,
     "metadata": {},
     "output_type": "execute_result"
    }
   ],
   "source": [
    "map_data.activity.max()"
   ]
  },
  {
   "cell_type": "markdown",
   "metadata": {},
   "source": [
    "# Make the grid"
   ]
  },
  {
   "cell_type": "code",
   "execution_count": 507,
   "metadata": {
    "collapsed": false
   },
   "outputs": [],
   "source": [
    "f=open('centers_long_lat_id_mesh_space=0.0025.pickle','rb')\n",
    "grid = pickle.load(f)\n",
    "f.close()"
   ]
  },
  {
   "cell_type": "code",
   "execution_count": 508,
   "metadata": {
    "collapsed": false
   },
   "outputs": [],
   "source": [
    "grid_json = {\"type\":\"FeatureCollection\", \"features\":[]}"
   ]
  },
  {
   "cell_type": "code",
   "execution_count": 509,
   "metadata": {
    "collapsed": false
   },
   "outputs": [],
   "source": [
    "add_mesh = 0.0025/2\n",
    "for index, row in grid.iterrows():\n",
    "    if str(int(row[2])) in trips.keys():\n",
    "        popup_content= \"Incoming: \"+str(trips[str(int(row[2]))][0])+\"<br /> outgoing: \"+str(trips[str(int(row[2]))][1]) +\"<br /> Activity: \"+str(trips[str(int(row[2]))][1] + trips[str(int(row[2]))][0]) +\"<br /> Attractiveness: \"+str(trips[str(int(row[2]))][1] - trips[str(int(row[2]))][0])\n",
    "        coord = [[row[0]+add_mesh,row[1]+add_mesh],[row[0]+add_mesh,row[1]-add_mesh],[row[0]-add_mesh,row[1]-add_mesh],[row[0]-add_mesh,row[1]+add_mesh],[row[0]+add_mesh,row[1]+add_mesh]]\n",
    "        dd = {\"type\":\"Feature\",\"id\":str(int(row[2])),\n",
    "              \"properties\":{\"name\":str(int(row[2])),\"popupContent\":popup_content},\n",
    "             \"geometry\":{\"type\":\"Polygon\",\"coordinates\":[coord]}\n",
    "             }\n",
    "        grid_json['features'].append(dd)"
   ]
  },
  {
   "cell_type": "code",
   "execution_count": 512,
   "metadata": {
    "collapsed": false
   },
   "outputs": [],
   "source": [
    "with open('grid.json', 'w') as outfile:\n",
    "    simplejson.dump(grid_json, outfile)"
   ]
  },
  {
   "cell_type": "code",
   "execution_count": 513,
   "metadata": {
    "collapsed": true
   },
   "outputs": [],
   "source": [
    "grid_json = simplejson.dumps(grid_json)"
   ]
  },
  {
   "cell_type": "markdown",
   "metadata": {},
   "source": [
    "# Make the map"
   ]
  },
  {
   "cell_type": "code",
   "execution_count": 746,
   "metadata": {
    "collapsed": false
   },
   "outputs": [],
   "source": [
    "import folium\n",
    "\n",
    "map_1 = folium.Map(location=[40.74006, -73.98605], zoom_start=13, tiles='Stamen Terrain')\n",
    "map_1.lat_lng_popover()"
   ]
  },
  {
   "cell_type": "code",
   "execution_count": 743,
   "metadata": {
    "collapsed": false
   },
   "outputs": [],
   "source": [
    "map_1.geo_json(geo_str=grid_json, data=map_data,\n",
    "               columns=['centers', 'activity'],\n",
    "               data_out='data.json',\n",
    "               threshold_scale=[0, 250, 500, 750, 1000, 2000],\n",
    "               key_on='feature.id',fill_color='BuPu', fill_opacity=0.5, line_weight=1,\n",
    "               line_opacity=0.8,line_color='black',\n",
    "               legend_name='Activity Rate',reset=True)"
   ]
  },
  {
   "cell_type": "code",
   "execution_count": 747,
   "metadata": {
    "collapsed": false
   },
   "outputs": [],
   "source": [
    "map_1.circle_marker(location=[40.74006, -73.98605],radius=60,popup='hi',line_color='red',\n",
    "                  fill_color='red', fill_opacity=0.4)"
   ]
  },
  {
   "cell_type": "code",
   "execution_count": 748,
   "metadata": {
    "collapsed": true
   },
   "outputs": [],
   "source": [
    "map_1.create_map(path='nyc.html')"
   ]
  },
  {
   "cell_type": "code",
   "execution_count": null,
   "metadata": {
    "collapsed": true
   },
   "outputs": [],
   "source": []
  }
 ],
 "metadata": {
  "kernelspec": {
   "display_name": "Python 2",
   "language": "python",
   "name": "python2"
  },
  "language_info": {
   "codemirror_mode": {
    "name": "ipython",
    "version": 2
   },
   "file_extension": ".py",
   "mimetype": "text/x-python",
   "name": "python",
   "nbconvert_exporter": "python",
   "pygments_lexer": "ipython2",
   "version": "2.7.5"
  }
 },
 "nbformat": 4,
 "nbformat_minor": 0
}
