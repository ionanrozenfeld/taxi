{
 "cells": [
  {
   "cell_type": "code",
   "execution_count": 402,
   "metadata": {
    "collapsed": false
   },
   "outputs": [],
   "source": [
    "import folium\n",
    "import pickle\n",
    "import simplejson\n",
    "import pandas as pd\n",
    "from bs4 import BeautifulSoup as bs\n",
    "import numpy as np"
   ]
  },
  {
   "cell_type": "markdown",
   "metadata": {},
   "source": [
    "# Make the dataframe"
   ]
  },
  {
   "cell_type": "code",
   "execution_count": 356,
   "metadata": {
    "collapsed": true
   },
   "outputs": [],
   "source": [
    "month = 2 #Oct\n",
    "day_of_week = 1 #Wed\n",
    "hour = 16 #From 3pm to 4pm\n",
    "\n",
    "f=open('network_mesh_space=0.0025_month='+str(month)+'_day='+str(day_of_week)+'.pickle','rb')\n",
    "network = pickle.load(f)\n",
    "f.close()"
   ]
  },
  {
   "cell_type": "code",
   "execution_count": 480,
   "metadata": {
    "collapsed": true
   },
   "outputs": [],
   "source": [
    "n0 = network.loc(axis=0)[:,16,:,23759]"
   ]
  },
  {
   "cell_type": "code",
   "execution_count": 481,
   "metadata": {
    "collapsed": false
   },
   "outputs": [],
   "source": [
    "n0.reset_index(level=[0,1,2,3], inplace=True)"
   ]
  },
  {
   "cell_type": "code",
   "execution_count": 482,
   "metadata": {
    "collapsed": false
   },
   "outputs": [],
   "source": [
    "gr = n0[['pickup_center',0]].groupby('pickup_center').sum()"
   ]
  },
  {
   "cell_type": "code",
   "execution_count": 485,
   "metadata": {
    "collapsed": false
   },
   "outputs": [],
   "source": [
    "gr = gr.sort(0,ascending=False)[0:10]"
   ]
  },
  {
   "cell_type": "code",
   "execution_count": 486,
   "metadata": {
    "collapsed": false
   },
   "outputs": [
    {
     "data": {
      "text/html": [
       "<div>\n",
       "<table border=\"1\" class=\"dataframe\">\n",
       "  <thead>\n",
       "    <tr style=\"text-align: right;\">\n",
       "      <th></th>\n",
       "      <th>0</th>\n",
       "    </tr>\n",
       "    <tr>\n",
       "      <th>pickup_center</th>\n",
       "      <th></th>\n",
       "    </tr>\n",
       "  </thead>\n",
       "  <tbody>\n",
       "    <tr>\n",
       "      <th>23988</th>\n",
       "      <td>25</td>\n",
       "    </tr>\n",
       "    <tr>\n",
       "      <th>24879</th>\n",
       "      <td>24</td>\n",
       "    </tr>\n",
       "    <tr>\n",
       "      <th>23987</th>\n",
       "      <td>23</td>\n",
       "    </tr>\n",
       "    <tr>\n",
       "      <th>24430</th>\n",
       "      <td>21</td>\n",
       "    </tr>\n",
       "    <tr>\n",
       "      <th>24653</th>\n",
       "      <td>21</td>\n",
       "    </tr>\n",
       "    <tr>\n",
       "      <th>24654</th>\n",
       "      <td>19</td>\n",
       "    </tr>\n",
       "    <tr>\n",
       "      <th>24212</th>\n",
       "      <td>18</td>\n",
       "    </tr>\n",
       "    <tr>\n",
       "      <th>24877</th>\n",
       "      <td>17</td>\n",
       "    </tr>\n",
       "    <tr>\n",
       "      <th>24211</th>\n",
       "      <td>15</td>\n",
       "    </tr>\n",
       "    <tr>\n",
       "      <th>24436</th>\n",
       "      <td>15</td>\n",
       "    </tr>\n",
       "  </tbody>\n",
       "</table>\n",
       "</div>"
      ],
      "text/plain": [
       "                0\n",
       "pickup_center    \n",
       "23988          25\n",
       "24879          24\n",
       "23987          23\n",
       "24430          21\n",
       "24653          21\n",
       "24654          19\n",
       "24212          18\n",
       "24877          17\n",
       "24211          15\n",
       "24436          15"
      ]
     },
     "execution_count": 486,
     "metadata": {},
     "output_type": "execute_result"
    }
   ],
   "source": [
    "gr"
   ]
  },
  {
   "cell_type": "code",
   "execution_count": 492,
   "metadata": {
    "collapsed": false
   },
   "outputs": [
    {
     "name": "stdout",
     "output_type": "stream",
     "text": [
      "23988\n",
      "25\n",
      "24879\n",
      "24\n",
      "23987\n",
      "23\n",
      "24430\n",
      "21\n",
      "24653\n",
      "21\n",
      "24654\n",
      "19\n",
      "24212\n",
      "18\n",
      "24877\n",
      "17\n",
      "24211\n",
      "15\n",
      "24436\n",
      "15\n"
     ]
    }
   ],
   "source": [
    "for index, row in gr.iterrows():\n",
    "    print index\n",
    "    print int(row)"
   ]
  },
  {
   "cell_type": "code",
   "execution_count": 340,
   "metadata": {
    "collapsed": true
   },
   "outputs": [],
   "source": [
    "trips = {} #{center_id: [outgoing trips, incoming trips]}\n",
    "\n",
    "count_pick_ups = network.loc(axis=0)[hour,:,:,:]\n",
    "count_pick_ups = network.loc[(hour,slice(None),slice(None),slice(None)),:]\n",
    "count_pick_ups_index = count_pick_ups.index.values\n",
    "for i in count_pick_ups_index:\n",
    "    try:\n",
    "        trips[str(int(i[2]))][0] += int(count_pick_ups.ix[i])\n",
    "    except KeyError:\n",
    "        trips[str(int(i[2]))] = [int(count_pick_ups.ix[i]),0]\n",
    "\n",
    "count_drop_offs = network.loc(axis=0)[:,hour,:,:]\n",
    "count_drop_offs_index = count_drop_offs.index.values\n",
    "for i in count_drop_offs_index:\n",
    "    try:\n",
    "        trips[str(int(i[3]))][1] += int(count_drop_offs.ix[i])\n",
    "    except KeyError:\n",
    "        trips[str(int(i[3]))] = [0,int(count_drop_offs.ix[i])]\n"
   ]
  },
  {
   "cell_type": "code",
   "execution_count": 341,
   "metadata": {
    "collapsed": false
   },
   "outputs": [],
   "source": [
    "tk = trips.keys()\n",
    "tv = trips.values()\n",
    "\n",
    "map_data = pd.DataFrame({'centers': tk, 'activity' : [i[0]+i[1] for i in tv], \n",
    "                         'attractiveness': [i[1]-i[0] for i in tv]})"
   ]
  },
  {
   "cell_type": "code",
   "execution_count": 342,
   "metadata": {
    "collapsed": false
   },
   "outputs": [
    {
     "data": {
      "text/plain": [
       "160"
      ]
     },
     "execution_count": 342,
     "metadata": {},
     "output_type": "execute_result"
    }
   ],
   "source": [
    "map_data.activity.max()"
   ]
  },
  {
   "cell_type": "markdown",
   "metadata": {},
   "source": [
    "# Make the grid"
   ]
  },
  {
   "cell_type": "code",
   "execution_count": 343,
   "metadata": {
    "collapsed": false
   },
   "outputs": [],
   "source": [
    "f=open('centers_long_lat_id_mesh_space=0.0025.pickle','rb')\n",
    "grid = pickle.load(f)\n",
    "f.close()"
   ]
  },
  {
   "cell_type": "code",
   "execution_count": 344,
   "metadata": {
    "collapsed": false
   },
   "outputs": [],
   "source": [
    "grid_json = {\"type\":\"FeatureCollection\", \"features\":[]}"
   ]
  },
  {
   "cell_type": "code",
   "execution_count": 345,
   "metadata": {
    "collapsed": false
   },
   "outputs": [],
   "source": [
    "add_mesh = 0.0025/2\n",
    "for index, row in grid.iterrows():\n",
    "    if str(int(row[2])) in trips.keys():\n",
    "        popup_content= \"Incoming: \"+str(trips[str(int(row[2]))][0])+\"<br /> outgoing: \"+str(trips[str(int(row[2]))][1]) +\"<br /> Activity: \"+str(trips[str(int(row[2]))][1] + trips[str(int(row[2]))][0]) +\"<br /> Attractiveness: \"+str(trips[str(int(row[2]))][1] - trips[str(int(row[2]))][0])\n",
    "        coord = [[row[0]+add_mesh,row[1]+add_mesh],[row[0]+add_mesh,row[1]-add_mesh],[row[0]-add_mesh,row[1]-add_mesh],[row[0]-add_mesh,row[1]+add_mesh],[row[0]+add_mesh,row[1]+add_mesh]]\n",
    "        dd = {\"type\":\"Feature\",\"id\":str(int(row[2])),\n",
    "              \"properties\":{\"name\":str(int(row[2])),\"popupContent\":popup_content},\n",
    "             \"geometry\":{\"type\":\"Polygon\",\"coordinates\":[coord]}\n",
    "             }\n",
    "        grid_json['features'].append(dd)"
   ]
  },
  {
   "cell_type": "code",
   "execution_count": 302,
   "metadata": {
    "collapsed": false
   },
   "outputs": [],
   "source": [
    "with open('grid.json', 'w') as outfile:\n",
    "    simplejson.dump(grid_json, outfile)"
   ]
  },
  {
   "cell_type": "code",
   "execution_count": 322,
   "metadata": {
    "collapsed": true
   },
   "outputs": [],
   "source": [
    "grid_json = simplejson.dumps(grid_json)"
   ]
  },
  {
   "cell_type": "markdown",
   "metadata": {},
   "source": [
    "# Make the map"
   ]
  },
  {
   "cell_type": "code",
   "execution_count": 348,
   "metadata": {
    "collapsed": false
   },
   "outputs": [],
   "source": [
    "import folium\n",
    "\n",
    "map_1 = folium.Map(location=[40.74006, -73.98605], zoom_start=12,\n",
    "                   tiles='Stamen Terrain')\n",
    "map_1.lat_lng_popover()"
   ]
  },
  {
   "cell_type": "code",
   "execution_count": 349,
   "metadata": {
    "collapsed": false
   },
   "outputs": [],
   "source": [
    "map_1.geo_json(geo_str=grid_json, data=map_data,\n",
    "               columns=['centers', 'activity'],\n",
    "               threshold_scale=[0, 250, 500, 750, 1000, 2000],\n",
    "               key_on='feature.id',fill_color='BuPu', fill_opacity=0.5, line_weight=1,\n",
    "               line_opacity=0.8,line_color='black',\n",
    "               legend_name='Activity Rate',reset=True)"
   ]
  },
  {
   "cell_type": "code",
   "execution_count": 317,
   "metadata": {
    "collapsed": true
   },
   "outputs": [],
   "source": [
    "map_1.create_map(path='nyc.html')"
   ]
  },
  {
   "cell_type": "code",
   "execution_count": 209,
   "metadata": {
    "collapsed": false
   },
   "outputs": [],
   "source": [
    "map_html = str(map_1.HTML.encode(\"ascii\", \"ignore\"))"
   ]
  },
  {
   "cell_type": "code",
   "execution_count": 199,
   "metadata": {
    "collapsed": false
   },
   "outputs": [],
   "source": [
    "soup = bs(map_html, 'html.parser') "
   ]
  },
  {
   "cell_type": "code",
   "execution_count": 184,
   "metadata": {
    "collapsed": true
   },
   "outputs": [],
   "source": [
    "map_head = soup.head"
   ]
  },
  {
   "cell_type": "code",
   "execution_count": 213,
   "metadata": {
    "collapsed": false
   },
   "outputs": [],
   "source": [
    "map_div = soup.body.div"
   ]
  },
  {
   "cell_type": "code",
   "execution_count": 216,
   "metadata": {
    "collapsed": false
   },
   "outputs": [
    {
     "data": {
      "text/plain": [
       "'<div id=\"map\" style=\"width: 600px; height: 600px\"></div>'"
      ]
     },
     "execution_count": 216,
     "metadata": {},
     "output_type": "execute_result"
    }
   ],
   "source": [
    "str(map_div).replace(\"100%\",\"600px\")"
   ]
  },
  {
   "cell_type": "code",
   "execution_count": 224,
   "metadata": {
    "collapsed": false
   },
   "outputs": [],
   "source": [
    "map_script= soup.body.script"
   ]
  },
  {
   "cell_type": "code",
   "execution_count": 355,
   "metadata": {
    "collapsed": true
   },
   "outputs": [],
   "source": [
    "map_1.line?"
   ]
  },
  {
   "cell_type": "code",
   "execution_count": 500,
   "metadata": {
    "collapsed": false
   },
   "outputs": [],
   "source": [
    "map_1.map_size = {'width': 100, 'height': 100}"
   ]
  },
  {
   "cell_type": "code",
   "execution_count": 503,
   "metadata": {
    "collapsed": true
   },
   "outputs": [],
   "source": [
    "map_1.simple_marker?"
   ]
  },
  {
   "cell_type": "code",
   "execution_count": null,
   "metadata": {
    "collapsed": true
   },
   "outputs": [],
   "source": [
    "map_1."
   ]
  }
 ],
 "metadata": {
  "kernelspec": {
   "display_name": "Python 2",
   "language": "python",
   "name": "python2"
  },
  "language_info": {
   "codemirror_mode": {
    "name": "ipython",
    "version": 2
   },
   "file_extension": ".py",
   "mimetype": "text/x-python",
   "name": "python",
   "nbconvert_exporter": "python",
   "pygments_lexer": "ipython2",
   "version": "2.7.5"
  }
 },
 "nbformat": 4,
 "nbformat_minor": 0
}
