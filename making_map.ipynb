{
 "cells": [
  {
   "cell_type": "code",
   "execution_count": 285,
   "metadata": {
    "collapsed": false
   },
   "outputs": [],
   "source": [
    "import folium\n",
    "import pickle\n",
    "import simplejson\n",
    "import pandas as pd"
   ]
  },
  {
   "cell_type": "markdown",
   "metadata": {},
   "source": [
    "# Make the grid"
   ]
  },
  {
   "cell_type": "code",
   "execution_count": 240,
   "metadata": {
    "collapsed": false
   },
   "outputs": [],
   "source": [
    "f=open('centers_long_lat_id_mesh_space=0.005.pickle','rb')\n",
    "grid = pickle.load(f)\n",
    "f.close()"
   ]
  },
  {
   "cell_type": "code",
   "execution_count": 270,
   "metadata": {
    "collapsed": false
   },
   "outputs": [],
   "source": [
    "grid_json = {\"type\":\"FeatureCollection\", \"features\":[]}"
   ]
  },
  {
   "cell_type": "code",
   "execution_count": 272,
   "metadata": {
    "collapsed": false
   },
   "outputs": [],
   "source": [
    "add_mesh = 0.005/2\n",
    "for index, row in grid.iterrows():\n",
    "    #print \"index\", index\n",
    "    #print \"row\",row[0], row[1], row[2]\n",
    "    coord = [[row[0]+add_mesh,row[1]+add_mesh],[row[0]+add_mesh,row[1]-add_mesh],[row[0]-add_mesh,row[1]-add_mesh],[row[0]-add_mesh,row[1]+add_mesh],[row[0]+add_mesh,row[1]+add_mesh]]\n",
    "    dd = {\"type\":\"Feature\",\"id\":str(int(row[2])),\"properties\":{\"name\":str(int(row[2]))},\n",
    "         \"geometry\":{\"type\":\"Polygon\",\"coordinates\":[coord]}\n",
    "         }\n",
    "    grid_json['features'].append(dd)\n",
    "    #break"
   ]
  },
  {
   "cell_type": "code",
   "execution_count": 276,
   "metadata": {
    "collapsed": false
   },
   "outputs": [],
   "source": [
    "with open('grid.json', 'w') as outfile:\n",
    "    simplejson.dump(grid_json, outfile)"
   ]
  },
  {
   "cell_type": "markdown",
   "metadata": {},
   "source": [
    "# Make the dataframe"
   ]
  },
  {
   "cell_type": "code",
   "execution_count": 287,
   "metadata": {
    "collapsed": true
   },
   "outputs": [],
   "source": [
    "month = 2 #Feb\n",
    "day_of_week = 1 #Tuesday\n",
    "hour = 7 #From 7am to 8am\n",
    "\n",
    "f=open('network_mesh_space=0.005_month='+str(month)+'_day='+str(day_of_week)+'.pickle','rb')\n",
    "network = pickle.load(f)\n",
    "f.close()"
   ]
  },
  {
   "cell_type": "code",
   "execution_count": 323,
   "metadata": {
    "collapsed": true
   },
   "outputs": [],
   "source": [
    "trips = {} #{center_id: [outgoing trips, incoming trips]}\n",
    "\n",
    "count_pick_ups = network.loc[(hour,slice(None),slice(None),slice(None)),:]\n",
    "count_pick_ups_index = count_pick_ups.index.values\n",
    "for i in count_pick_ups_index:\n",
    "    try:\n",
    "        trips[str(int(i[2]))][0] += int(count_pick_ups.ix[i])\n",
    "    except KeyError:\n",
    "        trips[str(int(i[2]))] = [int(count_pick_ups.ix[i]),0]\n",
    "\n",
    "count_drop_offs = network.loc[(slice(None),hour,slice(None),slice(None)),:]\n",
    "count_drop_offs_index = count_drop_offs.index.values\n",
    "for i in count_drop_offs_index:\n",
    "    try:\n",
    "        trips[str(int(i[3]))][1] += int(count_drop_offs.ix[i])\n",
    "    except KeyError:\n",
    "        trips[str(int(i[3]))] = [0,int(count_drop_offs.ix[i])]\n"
   ]
  },
  {
   "cell_type": "code",
   "execution_count": 332,
   "metadata": {
    "collapsed": false
   },
   "outputs": [],
   "source": [
    "tk = trips.keys()\n",
    "tv = trips.values()\n",
    "\n",
    "map_data = pd.DataFrame({'centers': tk, 'activity' : [i[0]+i[1] for i in tv], \n",
    "                         'attractiveness': [i[1]-i[0] for i in tv]})"
   ]
  },
  {
   "cell_type": "code",
   "execution_count": 333,
   "metadata": {
    "collapsed": false
   },
   "outputs": [
    {
     "data": {
      "text/html": [
       "<div>\n",
       "<table border=\"1\" class=\"dataframe\">\n",
       "  <thead>\n",
       "    <tr style=\"text-align: right;\">\n",
       "      <th></th>\n",
       "      <th>activity</th>\n",
       "      <th>attractiveness</th>\n",
       "      <th>centers</th>\n",
       "    </tr>\n",
       "  </thead>\n",
       "  <tbody>\n",
       "    <tr>\n",
       "      <th>0</th>\n",
       "      <td>3</td>\n",
       "      <td>3</td>\n",
       "      <td>9077</td>\n",
       "    </tr>\n",
       "    <tr>\n",
       "      <th>1</th>\n",
       "      <td>1</td>\n",
       "      <td>1</td>\n",
       "      <td>9074</td>\n",
       "    </tr>\n",
       "    <tr>\n",
       "      <th>2</th>\n",
       "      <td>17</td>\n",
       "      <td>-3</td>\n",
       "      <td>6513</td>\n",
       "    </tr>\n",
       "    <tr>\n",
       "      <th>3</th>\n",
       "      <td>1</td>\n",
       "      <td>1</td>\n",
       "      <td>4413</td>\n",
       "    </tr>\n",
       "    <tr>\n",
       "      <th>4</th>\n",
       "      <td>297</td>\n",
       "      <td>-59</td>\n",
       "      <td>6614</td>\n",
       "    </tr>\n",
       "  </tbody>\n",
       "</table>\n",
       "</div>"
      ],
      "text/plain": [
       "   activity  attractiveness centers\n",
       "0         3               3    9077\n",
       "1         1               1    9074\n",
       "2        17              -3    6513\n",
       "3         1               1    4413\n",
       "4       297             -59    6614"
      ]
     },
     "execution_count": 333,
     "metadata": {},
     "output_type": "execute_result"
    }
   ],
   "source": [
    "map_data.head()"
   ]
  },
  {
   "cell_type": "code",
   "execution_count": 338,
   "metadata": {
    "collapsed": false
   },
   "outputs": [
    {
     "data": {
      "text/plain": [
       "[178, 119]"
      ]
     },
     "execution_count": 338,
     "metadata": {},
     "output_type": "execute_result"
    }
   ],
   "source": [
    "trips['6614']"
   ]
  },
  {
   "cell_type": "markdown",
   "metadata": {},
   "source": [
    "# Make the map"
   ]
  },
  {
   "cell_type": "code",
   "execution_count": 326,
   "metadata": {
    "collapsed": false
   },
   "outputs": [],
   "source": [
    "import folium\n",
    "\n",
    "map_1 = folium.Map(location=[40.74006, -73.98605], zoom_start=14,\n",
    "                   tiles='Stamen Terrain')\n",
    "map_1.lat_lng_popover()"
   ]
  },
  {
   "cell_type": "code",
   "execution_count": 340,
   "metadata": {
    "collapsed": false
   },
   "outputs": [],
   "source": [
    "map_1.geo_json(geo_path='grid.json', data=map_data,\n",
    "               columns=['centers', 'activity'],\n",
    "               threshold_scale=[500, 1000, 1500, 2000, 2500, 3000],\n",
    "               key_on='feature.id',fill_color='BuPu', fill_opacity=0.7, line_opacity=0.5,\n",
    "               legend_name='Activity Rate',reset=True)\n",
    "\n",
    "#map.geo_json(geo_path=state_geo, data=state_data,\n",
    "#             columns=['State', 'Unemployment'],\n",
    "#             threshold_scale=[5, 6, 7, 8, 9, 10],\n",
    "#             key_on='feature.id',\n",
    "#             fill_color='BuPu', fill_opacity=0.7, line_opacity=0.5,\n",
    "#             legend_name='Unemployment Rate (%)',\n",
    "#             reset=True)\n"
   ]
  },
  {
   "cell_type": "code",
   "execution_count": 282,
   "metadata": {
    "collapsed": true
   },
   "outputs": [],
   "source": [
    "map_1.create_map(path='nyc.html')"
   ]
  },
  {
   "cell_type": "code",
   "execution_count": 330,
   "metadata": {
    "collapsed": true
   },
   "outputs": [],
   "source": [
    "map_1.geo_json?"
   ]
  },
  {
   "cell_type": "code",
   "execution_count": null,
   "metadata": {
    "collapsed": true
   },
   "outputs": [],
   "source": []
  }
 ],
 "metadata": {
  "kernelspec": {
   "display_name": "Python 2",
   "language": "python",
   "name": "python2"
  },
  "language_info": {
   "codemirror_mode": {
    "name": "ipython",
    "version": 2
   },
   "file_extension": ".py",
   "mimetype": "text/x-python",
   "name": "python",
   "nbconvert_exporter": "python",
   "pygments_lexer": "ipython2",
   "version": "2.7.5"
  }
 },
 "nbformat": 4,
 "nbformat_minor": 0
}
