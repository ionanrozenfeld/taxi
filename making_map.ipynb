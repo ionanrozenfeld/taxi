{
 "cells": [
  {
   "cell_type": "code",
   "execution_count": 161,
   "metadata": {
    "collapsed": false
   },
   "outputs": [],
   "source": [
    "import folium\n",
    "import pickle\n",
    "import simplejson\n",
    "import pandas as pd\n",
    "from bs4 import BeautifulSoup as bs"
   ]
  },
  {
   "cell_type": "markdown",
   "metadata": {},
   "source": [
    "# Make the dataframe"
   ]
  },
  {
   "cell_type": "code",
   "execution_count": 38,
   "metadata": {
    "collapsed": true
   },
   "outputs": [],
   "source": [
    "month = 2 #Feb\n",
    "day_of_week = 1 #Tuesday\n",
    "hour = 7 #From 7am to 8am\n",
    "\n",
    "f=open('network_mesh_space=0.005_month='+str(month)+'_day='+str(day_of_week)+'.pickle','rb')\n",
    "network = pickle.load(f)\n",
    "f.close()"
   ]
  },
  {
   "cell_type": "code",
   "execution_count": 39,
   "metadata": {
    "collapsed": true
   },
   "outputs": [],
   "source": [
    "trips = {} #{center_id: [outgoing trips, incoming trips]}\n",
    "\n",
    "count_pick_ups = network.loc[(hour,slice(None),slice(None),slice(None)),:]\n",
    "count_pick_ups_index = count_pick_ups.index.values\n",
    "for i in count_pick_ups_index:\n",
    "    try:\n",
    "        trips[str(int(i[2]))][0] += int(count_pick_ups.ix[i])\n",
    "    except KeyError:\n",
    "        trips[str(int(i[2]))] = [int(count_pick_ups.ix[i]),0]\n",
    "\n",
    "count_drop_offs = network.loc[(slice(None),hour,slice(None),slice(None)),:]\n",
    "count_drop_offs_index = count_drop_offs.index.values\n",
    "for i in count_drop_offs_index:\n",
    "    try:\n",
    "        trips[str(int(i[3]))][1] += int(count_drop_offs.ix[i])\n",
    "    except KeyError:\n",
    "        trips[str(int(i[3]))] = [0,int(count_drop_offs.ix[i])]\n"
   ]
  },
  {
   "cell_type": "code",
   "execution_count": 110,
   "metadata": {
    "collapsed": false
   },
   "outputs": [],
   "source": [
    "tk = trips.keys()\n",
    "tv = trips.values()\n",
    "\n",
    "map_data = pd.DataFrame({'centers': tk, 'activity' : [i[0]+i[1] for i in tv], \n",
    "                         'attractiveness': [i[1]-i[0] for i in tv]})"
   ]
  },
  {
   "cell_type": "code",
   "execution_count": 114,
   "metadata": {
    "collapsed": false
   },
   "outputs": [
    {
     "data": {
      "text/plain": [
       "-1447"
      ]
     },
     "execution_count": 114,
     "metadata": {},
     "output_type": "execute_result"
    }
   ],
   "source": [
    "map_data.attractiveness.min()"
   ]
  },
  {
   "cell_type": "markdown",
   "metadata": {},
   "source": [
    "# Make the grid"
   ]
  },
  {
   "cell_type": "code",
   "execution_count": 103,
   "metadata": {
    "collapsed": false
   },
   "outputs": [],
   "source": [
    "f=open('centers_long_lat_id_mesh_space=0.005.pickle','rb')\n",
    "grid = pickle.load(f)\n",
    "f.close()"
   ]
  },
  {
   "cell_type": "code",
   "execution_count": 104,
   "metadata": {
    "collapsed": false
   },
   "outputs": [],
   "source": [
    "grid_json = {\"type\":\"FeatureCollection\", \"features\":[]}"
   ]
  },
  {
   "cell_type": "code",
   "execution_count": 105,
   "metadata": {
    "collapsed": false
   },
   "outputs": [],
   "source": [
    "add_mesh = 0.005/2\n",
    "for index, row in grid.iterrows():\n",
    "    #print \"index\", index\n",
    "    #print \"row\",row[0], row[1], row[2]\n",
    "    if str(int(row[2])) in trips.keys():\n",
    "        popup_content= \"Incoming: \"+str(trips[str(int(row[2]))][0])+\"<br /> outgoing: \"+str(trips[str(int(row[2]))][1]) +\"<br /> Activity: \"+str(trips[str(int(row[2]))][1] + trips[str(int(row[2]))][0]) +\"<br /> Attractiveness: \"+str(trips[str(int(row[2]))][1] - trips[str(int(row[2]))][0])\n",
    "        coord = [[row[0]+add_mesh,row[1]+add_mesh],[row[0]+add_mesh,row[1]-add_mesh],[row[0]-add_mesh,row[1]-add_mesh],[row[0]-add_mesh,row[1]+add_mesh],[row[0]+add_mesh,row[1]+add_mesh]]\n",
    "        dd = {\"type\":\"Feature\",\"id\":str(int(row[2])),\n",
    "              \"properties\":{\"name\":str(int(row[2])),\"popupContent\":popup_content},\n",
    "             \"geometry\":{\"type\":\"Polygon\",\"coordinates\":[coord]}\n",
    "             }\n",
    "        grid_json['features'].append(dd)\n",
    "    #break"
   ]
  },
  {
   "cell_type": "code",
   "execution_count": 106,
   "metadata": {
    "collapsed": false
   },
   "outputs": [],
   "source": [
    "with open('grid.json', 'w') as outfile:\n",
    "    simplejson.dump(grid_json, outfile)"
   ]
  },
  {
   "cell_type": "markdown",
   "metadata": {},
   "source": [
    "# Make the map"
   ]
  },
  {
   "cell_type": "code",
   "execution_count": 167,
   "metadata": {
    "collapsed": false
   },
   "outputs": [],
   "source": [
    "import folium\n",
    "\n",
    "map_1 = folium.Map(location=[40.74006, -73.98605], zoom_start=12,\n",
    "                   tiles='Stamen Terrain')\n",
    "map_1.lat_lng_popover()"
   ]
  },
  {
   "cell_type": "code",
   "execution_count": 168,
   "metadata": {
    "collapsed": false
   },
   "outputs": [],
   "source": [
    "map_1.geo_json(geo_path='grid.json', data=map_data,\n",
    "               columns=['centers', 'activity'],\n",
    "               threshold_scale=[0, 250, 500, 750, 1000, 2000],\n",
    "               key_on='feature.id',fill_color='BuPu', fill_opacity=0.5, line_weight=1,\n",
    "               line_opacity=0.8,line_color='black',\n",
    "               legend_name='Activity Rate',reset=True)"
   ]
  },
  {
   "cell_type": "code",
   "execution_count": 197,
   "metadata": {
    "collapsed": true
   },
   "outputs": [],
   "source": [
    "map_1.create_map(path='nyc.html')"
   ]
  },
  {
   "cell_type": "code",
   "execution_count": 209,
   "metadata": {
    "collapsed": false
   },
   "outputs": [],
   "source": [
    "map_html = str(map_1.HTML.encode(\"ascii\", \"ignore\"))"
   ]
  },
  {
   "cell_type": "code",
   "execution_count": 199,
   "metadata": {
    "collapsed": false
   },
   "outputs": [],
   "source": [
    "soup = bs(map_html, 'html.parser') "
   ]
  },
  {
   "cell_type": "code",
   "execution_count": 184,
   "metadata": {
    "collapsed": true
   },
   "outputs": [],
   "source": [
    "map_head = soup.head"
   ]
  },
  {
   "cell_type": "code",
   "execution_count": 213,
   "metadata": {
    "collapsed": false
   },
   "outputs": [],
   "source": [
    "map_div = soup.body.div"
   ]
  },
  {
   "cell_type": "code",
   "execution_count": 216,
   "metadata": {
    "collapsed": false
   },
   "outputs": [
    {
     "data": {
      "text/plain": [
       "'<div id=\"map\" style=\"width: 600px; height: 600px\"></div>'"
      ]
     },
     "execution_count": 216,
     "metadata": {},
     "output_type": "execute_result"
    }
   ],
   "source": [
    "str(map_div).replace(\"100%\",\"600px\")"
   ]
  },
  {
   "cell_type": "code",
   "execution_count": 202,
   "metadata": {
    "collapsed": false
   },
   "outputs": [],
   "source": [
    "map_script= soup.body.script"
   ]
  }
 ],
 "metadata": {
  "kernelspec": {
   "display_name": "Python 2",
   "language": "python",
   "name": "python2"
  },
  "language_info": {
   "codemirror_mode": {
    "name": "ipython",
    "version": 2
   },
   "file_extension": ".py",
   "mimetype": "text/x-python",
   "name": "python",
   "nbconvert_exporter": "python",
   "pygments_lexer": "ipython2",
   "version": "2.7.5"
  }
 },
 "nbformat": 4,
 "nbformat_minor": 0
}
